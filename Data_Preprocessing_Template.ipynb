{
  "nbformat": 4,
  "nbformat_minor": 0,
  "metadata": {
    "colab": {
      "name": "Data Preprocessing Template.ipynb",
      "provenance": [],
      "include_colab_link": true
    },
    "kernelspec": {
      "name": "python3",
      "display_name": "Python 3"
    }
  },
  "cells": [
    {
      "cell_type": "markdown",
      "metadata": {
        "id": "view-in-github",
        "colab_type": "text"
      },
      "source": [
        "<a href=\"https://colab.research.google.com/github/SHAGGY670/SFC-foundations/blob/master/Data_Preprocessing_Template.ipynb\" target=\"_parent\"><img src=\"https://colab.research.google.com/assets/colab-badge.svg\" alt=\"Open In Colab\"/></a>"
      ]
    },
    {
      "cell_type": "markdown",
      "metadata": {
        "id": "iIDXUkMElkDd"
      },
      "source": [
        "# Data Preprocessing"
      ]
    },
    {
      "cell_type": "markdown",
      "metadata": {
        "id": "Hj40LjUilpix"
      },
      "source": [
        "## Importing the libraries"
      ]
    },
    {
      "cell_type": "code",
      "source": [
        "import numpy as np\n",
        "import matplotlib.pyplot as plt\n",
        "import pandas as pd"
      ],
      "metadata": {
        "id": "u34dLuk1P7G_"
      },
      "execution_count": 135,
      "outputs": []
    },
    {
      "cell_type": "markdown",
      "metadata": {
        "id": "zApSnwUkl9eD"
      },
      "source": [
        "## Importing Dataset"
      ]
    },
    {
      "cell_type": "code",
      "source": [
        "ds=pd.read_csv('Covid_Data.csv')\n",
        "x=ds.iloc[:,:-1].values\n",
        "y=ds.iloc[:,-1].values"
      ],
      "metadata": {
        "id": "W0gGZLnqQFxm"
      },
      "execution_count": 136,
      "outputs": []
    },
    {
      "cell_type": "code",
      "source": [
        "print(x)"
      ],
      "metadata": {
        "colab": {
          "base_uri": "https://localhost:8080/"
        },
        "id": "XstNKvFwSKXh",
        "outputId": "752b3dc3-a5d9-4e2d-d6a7-797c445e8190"
      },
      "execution_count": 137,
      "outputs": [
        {
          "output_type": "stream",
          "name": "stdout",
          "text": [
            "[[10.0 'Normal' 'no' 'no' 97.0]\n",
            " [12.0 'Normal' 'no' 'no' 97.0]\n",
            " [15.0 'Normal' 'no' 'no' 94.0]\n",
            " [10.0 'Normal' 'no' 'no' 97.0]\n",
            " [13.0 'Moderate' 'no' 'no' 94.0]\n",
            " [12.0 'Moderate' 'no' 'no' 97.0]\n",
            " [13.0 'Moderate' 'no' 'no' 93.0]\n",
            " [15.0 'Moderate' 'no' 'no' 92.0]\n",
            " [18.0 'Moderate' 'no' 'no' 66.0]\n",
            " [19.0 'Normal' 'no' 'no' 92.0]\n",
            " [20.0 'Normal' 'no' 'no' 93.0]\n",
            " [17.0 'Normal' 'no' 'no' 93.0]\n",
            " [16.0 'Normal' 'no' 'no' 92.0]\n",
            " [18.0 'Normal' 'no' 'no' 93.0]\n",
            " [20.0 'Normal' 'no' 'no' 92.0]\n",
            " [25.0 'Moderate' 'no' 'no' 93.0]\n",
            " [24.0 'Moderate' 'no' 'no' 92.0]\n",
            " [26.0 'High' 'no' 'no' 94.0]\n",
            " [28.0 'Normal' 'no' 'no' 99.0]\n",
            " [29.0 'Normal' 'no' 'no' 93.0]\n",
            " [30.0 'Moderate' 'no' 'no' 62.0]\n",
            " [19.0 'Normal' 'no' 'no' 89.0]\n",
            " [25.0 'Normal' 'no' 'yes' 86.0]\n",
            " [26.0 'Normal' 'no' 'no' nan]\n",
            " [28.0 'Normal' 'no' 'no' 89.0]\n",
            " [30.0 'Moderate' 'yes' 'no' 86.0]\n",
            " [35.0 'Moderate' 'no' 'no' 89.0]\n",
            " [32.0 'Moderate' 'no' 'yes' 84.0]\n",
            " [nan 'Moderate' 'yes' 'no' 90.0]\n",
            " [32.0 'Moderate' 'no' 'no' 89.0]\n",
            " [35.0 'Moderate' 'no' 'yes' 92.0]\n",
            " [38.0 'High' 'no' 'no' 75.0]\n",
            " [40.0 'Moderate' 'no' 'yes' 90.0]\n",
            " [46.0 'High' 'yes' 'no' 91.0]\n",
            " [48.0 'Moderate' 'no' 'yes' 93.0]\n",
            " [42.0 'High' 'no' 'no' 92.0]\n",
            " [40.0 'High' 'no' 'no' 92.0]\n",
            " [49.0 'Moderate' 'no' 'no' 80.0]\n",
            " [50.0 'High' 'yes' 'yes' 77.0]\n",
            " [36.0 'High' 'yes' 'no' 90.0]\n",
            " [52.0 'High' 'yes' 'yes' 80.0]\n",
            " [56.0 'High' 'yes' 'yes' 77.0]\n",
            " [58.0 'High' 'no' 'no' 70.0]\n",
            " [59.0 'High' 'no' 'yes' 69.0]\n",
            " [60.0 'High' 'yes' 'yes' 68.0]\n",
            " [53.0 'High' 'yes' 'no' 55.0]\n",
            " [54.0 'High' 'yes' 'yes' 70.0]\n",
            " [62.0 'High' 'yes' 'yes' 68.0]\n",
            " [63.0 'High' 'yes' 'yes' 66.0]\n",
            " [68.0 'High' 'yes' 'no' 67.0]\n",
            " [69.0 'High' 'no' 'yes' 53.0]\n",
            " [64.0 'High' 'yes' 'yes' 73.0]\n",
            " [61.0 'High' 'yes' 'yes' 76.0]\n",
            " [70.0 'Normal' 'no' 'yes' 88.0]\n",
            " [59.0 'High' 'yes' 'no' 68.0]\n",
            " [62.0 'High' 'yes' 'yes' 69.0]\n",
            " [78.0 'High' 'yes' 'yes' 71.0]\n",
            " [74.0 'High' 'yes' 'yes' 75.0]\n",
            " [75.0 'High' 'no' 'yes' 72.0]\n",
            " [56.0 'High' 'yes' 'no' 76.0]\n",
            " [80.0 'High' 'no' 'yes' 92.0]\n",
            " [82.0 'High' 'yes' 'yes' 73.0]\n",
            " [86.0 'High' 'yes' 'yes' 71.0]\n",
            " [90.0 'High' 'yes' 'yes' 67.0]\n",
            " [84.0 'High' 'yes' 'yes' 75.0]\n",
            " [86.0 'High' 'no' 'yes' 76.0]\n",
            " [61.0 'Moderate' 'no' 'yes' 90.0]\n",
            " [94.0 'High' 'yes' 'yes' 64.0]\n",
            " [81.0 'High' 'yes' 'yes' 75.0]\n",
            " [76.0 'High' 'yes' 'yes' 80.0]]\n"
          ]
        }
      ]
    },
    {
      "cell_type": "code",
      "source": [
        "print(y)"
      ],
      "metadata": {
        "colab": {
          "base_uri": "https://localhost:8080/"
        },
        "id": "OGB-d09ISN7k",
        "outputId": "40934843-42cc-4626-c7d5-e749af645bdf"
      },
      "execution_count": 138,
      "outputs": [
        {
          "output_type": "stream",
          "name": "stdout",
          "text": [
            "['No' 'No' 'No' 'No' 'No' 'No' 'No' 'No' 'Yes' 'No' 'No' 'No' 'No' 'No'\n",
            " 'No' 'No' 'No' 'No' 'No' 'No' 'Yes' 'No' 'No' 'No' 'No' 'No' 'No' 'No'\n",
            " 'No' 'No' 'No' 'Yes' 'No' 'No' 'No' 'No' 'No' 'Yes' 'Yes' 'No' 'Yes'\n",
            " 'Yes' 'Yes' 'Yes' 'Yes' 'Yes' 'Yes' 'Yes' 'Yes' 'Yes' 'Yes' 'Yes' 'Yes'\n",
            " 'No' 'Yes' 'Yes' 'Yes' 'Yes' 'Yes' 'Yes' 'No' 'Yes' 'Yes' 'Yes' 'Yes'\n",
            " 'Yes' 'No' 'Yes' 'Yes' 'Yes']\n"
          ]
        }
      ]
    },
    {
      "cell_type": "markdown",
      "metadata": {
        "id": "XaG0s7WjmgPU"
      },
      "source": [
        "\n",
        "\n",
        "\n",
        "## Handling Missing Data"
      ]
    },
    {
      "cell_type": "markdown",
      "source": [
        "cannot use in string columns\n"
      ],
      "metadata": {
        "id": "AX7th2SDeGPq"
      }
    },
    {
      "cell_type": "code",
      "source": [
        "from sklearn.impute import SimpleImputer\n",
        "imputer = SimpleImputer(missing_values = np.nan, strategy = 'mean')\n",
        "imputer.fit(x[:, 0:1])\n",
        "x[: , 0:1] = imputer.transform(x[:, 0:1])"
      ],
      "metadata": {
        "id": "qE9Y2AnLa8zw"
      },
      "execution_count": 139,
      "outputs": []
    },
    {
      "cell_type": "code",
      "source": [
        "print(x)"
      ],
      "metadata": {
        "colab": {
          "base_uri": "https://localhost:8080/"
        },
        "id": "LZCU05KNeLcv",
        "outputId": "6d30a187-ec61-4e41-da31-0ff9b33dfbaf"
      },
      "execution_count": 140,
      "outputs": [
        {
          "output_type": "stream",
          "name": "stdout",
          "text": [
            "[[10.0 'Normal' 'no' 'no' 97.0]\n",
            " [12.0 'Normal' 'no' 'no' 97.0]\n",
            " [15.0 'Normal' 'no' 'no' 94.0]\n",
            " [10.0 'Normal' 'no' 'no' 97.0]\n",
            " [13.0 'Moderate' 'no' 'no' 94.0]\n",
            " [12.0 'Moderate' 'no' 'no' 97.0]\n",
            " [13.0 'Moderate' 'no' 'no' 93.0]\n",
            " [15.0 'Moderate' 'no' 'no' 92.0]\n",
            " [18.0 'Moderate' 'no' 'no' 66.0]\n",
            " [19.0 'Normal' 'no' 'no' 92.0]\n",
            " [20.0 'Normal' 'no' 'no' 93.0]\n",
            " [17.0 'Normal' 'no' 'no' 93.0]\n",
            " [16.0 'Normal' 'no' 'no' 92.0]\n",
            " [18.0 'Normal' 'no' 'no' 93.0]\n",
            " [20.0 'Normal' 'no' 'no' 92.0]\n",
            " [25.0 'Moderate' 'no' 'no' 93.0]\n",
            " [24.0 'Moderate' 'no' 'no' 92.0]\n",
            " [26.0 'High' 'no' 'no' 94.0]\n",
            " [28.0 'Normal' 'no' 'no' 99.0]\n",
            " [29.0 'Normal' 'no' 'no' 93.0]\n",
            " [30.0 'Moderate' 'no' 'no' 62.0]\n",
            " [19.0 'Normal' 'no' 'no' 89.0]\n",
            " [25.0 'Normal' 'no' 'yes' 86.0]\n",
            " [26.0 'Normal' 'no' 'no' nan]\n",
            " [28.0 'Normal' 'no' 'no' 89.0]\n",
            " [30.0 'Moderate' 'yes' 'no' 86.0]\n",
            " [35.0 'Moderate' 'no' 'no' 89.0]\n",
            " [32.0 'Moderate' 'no' 'yes' 84.0]\n",
            " [45.130434782608695 'Moderate' 'yes' 'no' 90.0]\n",
            " [32.0 'Moderate' 'no' 'no' 89.0]\n",
            " [35.0 'Moderate' 'no' 'yes' 92.0]\n",
            " [38.0 'High' 'no' 'no' 75.0]\n",
            " [40.0 'Moderate' 'no' 'yes' 90.0]\n",
            " [46.0 'High' 'yes' 'no' 91.0]\n",
            " [48.0 'Moderate' 'no' 'yes' 93.0]\n",
            " [42.0 'High' 'no' 'no' 92.0]\n",
            " [40.0 'High' 'no' 'no' 92.0]\n",
            " [49.0 'Moderate' 'no' 'no' 80.0]\n",
            " [50.0 'High' 'yes' 'yes' 77.0]\n",
            " [36.0 'High' 'yes' 'no' 90.0]\n",
            " [52.0 'High' 'yes' 'yes' 80.0]\n",
            " [56.0 'High' 'yes' 'yes' 77.0]\n",
            " [58.0 'High' 'no' 'no' 70.0]\n",
            " [59.0 'High' 'no' 'yes' 69.0]\n",
            " [60.0 'High' 'yes' 'yes' 68.0]\n",
            " [53.0 'High' 'yes' 'no' 55.0]\n",
            " [54.0 'High' 'yes' 'yes' 70.0]\n",
            " [62.0 'High' 'yes' 'yes' 68.0]\n",
            " [63.0 'High' 'yes' 'yes' 66.0]\n",
            " [68.0 'High' 'yes' 'no' 67.0]\n",
            " [69.0 'High' 'no' 'yes' 53.0]\n",
            " [64.0 'High' 'yes' 'yes' 73.0]\n",
            " [61.0 'High' 'yes' 'yes' 76.0]\n",
            " [70.0 'Normal' 'no' 'yes' 88.0]\n",
            " [59.0 'High' 'yes' 'no' 68.0]\n",
            " [62.0 'High' 'yes' 'yes' 69.0]\n",
            " [78.0 'High' 'yes' 'yes' 71.0]\n",
            " [74.0 'High' 'yes' 'yes' 75.0]\n",
            " [75.0 'High' 'no' 'yes' 72.0]\n",
            " [56.0 'High' 'yes' 'no' 76.0]\n",
            " [80.0 'High' 'no' 'yes' 92.0]\n",
            " [82.0 'High' 'yes' 'yes' 73.0]\n",
            " [86.0 'High' 'yes' 'yes' 71.0]\n",
            " [90.0 'High' 'yes' 'yes' 67.0]\n",
            " [84.0 'High' 'yes' 'yes' 75.0]\n",
            " [86.0 'High' 'no' 'yes' 76.0]\n",
            " [61.0 'Moderate' 'no' 'yes' 90.0]\n",
            " [94.0 'High' 'yes' 'yes' 64.0]\n",
            " [81.0 'High' 'yes' 'yes' 75.0]\n",
            " [76.0 'High' 'yes' 'yes' 80.0]]\n"
          ]
        }
      ]
    },
    {
      "cell_type": "code",
      "source": [
        "imputer.fit(x[:,4:5])\n",
        "x[:,4:5]=imputer.transform(x[:,4:5])"
      ],
      "metadata": {
        "id": "uoqXh9m7eg0J"
      },
      "execution_count": 141,
      "outputs": []
    },
    {
      "cell_type": "code",
      "source": [
        "print(x)"
      ],
      "metadata": {
        "colab": {
          "base_uri": "https://localhost:8080/"
        },
        "id": "GsoCO7IBex4O",
        "outputId": "badcffd2-f180-4de3-e99d-d3c081038a51"
      },
      "execution_count": 142,
      "outputs": [
        {
          "output_type": "stream",
          "name": "stdout",
          "text": [
            "[[10.0 'Normal' 'no' 'no' 97.0]\n",
            " [12.0 'Normal' 'no' 'no' 97.0]\n",
            " [15.0 'Normal' 'no' 'no' 94.0]\n",
            " [10.0 'Normal' 'no' 'no' 97.0]\n",
            " [13.0 'Moderate' 'no' 'no' 94.0]\n",
            " [12.0 'Moderate' 'no' 'no' 97.0]\n",
            " [13.0 'Moderate' 'no' 'no' 93.0]\n",
            " [15.0 'Moderate' 'no' 'no' 92.0]\n",
            " [18.0 'Moderate' 'no' 'no' 66.0]\n",
            " [19.0 'Normal' 'no' 'no' 92.0]\n",
            " [20.0 'Normal' 'no' 'no' 93.0]\n",
            " [17.0 'Normal' 'no' 'no' 93.0]\n",
            " [16.0 'Normal' 'no' 'no' 92.0]\n",
            " [18.0 'Normal' 'no' 'no' 93.0]\n",
            " [20.0 'Normal' 'no' 'no' 92.0]\n",
            " [25.0 'Moderate' 'no' 'no' 93.0]\n",
            " [24.0 'Moderate' 'no' 'no' 92.0]\n",
            " [26.0 'High' 'no' 'no' 94.0]\n",
            " [28.0 'Normal' 'no' 'no' 99.0]\n",
            " [29.0 'Normal' 'no' 'no' 93.0]\n",
            " [30.0 'Moderate' 'no' 'no' 62.0]\n",
            " [19.0 'Normal' 'no' 'no' 89.0]\n",
            " [25.0 'Normal' 'no' 'yes' 86.0]\n",
            " [26.0 'Normal' 'no' 'no' 82.07246376811594]\n",
            " [28.0 'Normal' 'no' 'no' 89.0]\n",
            " [30.0 'Moderate' 'yes' 'no' 86.0]\n",
            " [35.0 'Moderate' 'no' 'no' 89.0]\n",
            " [32.0 'Moderate' 'no' 'yes' 84.0]\n",
            " [45.130434782608695 'Moderate' 'yes' 'no' 90.0]\n",
            " [32.0 'Moderate' 'no' 'no' 89.0]\n",
            " [35.0 'Moderate' 'no' 'yes' 92.0]\n",
            " [38.0 'High' 'no' 'no' 75.0]\n",
            " [40.0 'Moderate' 'no' 'yes' 90.0]\n",
            " [46.0 'High' 'yes' 'no' 91.0]\n",
            " [48.0 'Moderate' 'no' 'yes' 93.0]\n",
            " [42.0 'High' 'no' 'no' 92.0]\n",
            " [40.0 'High' 'no' 'no' 92.0]\n",
            " [49.0 'Moderate' 'no' 'no' 80.0]\n",
            " [50.0 'High' 'yes' 'yes' 77.0]\n",
            " [36.0 'High' 'yes' 'no' 90.0]\n",
            " [52.0 'High' 'yes' 'yes' 80.0]\n",
            " [56.0 'High' 'yes' 'yes' 77.0]\n",
            " [58.0 'High' 'no' 'no' 70.0]\n",
            " [59.0 'High' 'no' 'yes' 69.0]\n",
            " [60.0 'High' 'yes' 'yes' 68.0]\n",
            " [53.0 'High' 'yes' 'no' 55.0]\n",
            " [54.0 'High' 'yes' 'yes' 70.0]\n",
            " [62.0 'High' 'yes' 'yes' 68.0]\n",
            " [63.0 'High' 'yes' 'yes' 66.0]\n",
            " [68.0 'High' 'yes' 'no' 67.0]\n",
            " [69.0 'High' 'no' 'yes' 53.0]\n",
            " [64.0 'High' 'yes' 'yes' 73.0]\n",
            " [61.0 'High' 'yes' 'yes' 76.0]\n",
            " [70.0 'Normal' 'no' 'yes' 88.0]\n",
            " [59.0 'High' 'yes' 'no' 68.0]\n",
            " [62.0 'High' 'yes' 'yes' 69.0]\n",
            " [78.0 'High' 'yes' 'yes' 71.0]\n",
            " [74.0 'High' 'yes' 'yes' 75.0]\n",
            " [75.0 'High' 'no' 'yes' 72.0]\n",
            " [56.0 'High' 'yes' 'no' 76.0]\n",
            " [80.0 'High' 'no' 'yes' 92.0]\n",
            " [82.0 'High' 'yes' 'yes' 73.0]\n",
            " [86.0 'High' 'yes' 'yes' 71.0]\n",
            " [90.0 'High' 'yes' 'yes' 67.0]\n",
            " [84.0 'High' 'yes' 'yes' 75.0]\n",
            " [86.0 'High' 'no' 'yes' 76.0]\n",
            " [61.0 'Moderate' 'no' 'yes' 90.0]\n",
            " [94.0 'High' 'yes' 'yes' 64.0]\n",
            " [81.0 'High' 'yes' 'yes' 75.0]\n",
            " [76.0 'High' 'yes' 'yes' 80.0]]\n"
          ]
        }
      ]
    },
    {
      "cell_type": "markdown",
      "metadata": {
        "id": "o0syRbsSmkoe"
      },
      "source": [
        "## Encoding Categorical Data"
      ]
    },
    {
      "cell_type": "code",
      "source": [
        "from sklearn.compose import ColumnTransformer\n",
        "from sklearn.preprocessing import OneHotEncoder"
      ],
      "metadata": {
        "id": "mGnECDBee2F-"
      },
      "execution_count": 143,
      "outputs": []
    },
    {
      "cell_type": "code",
      "source": [
        "ct = ColumnTransformer(transformers=[('encoder',OneHotEncoder(), [1])], remainder= 'passthrough')\n",
        "x = np.array(ct.fit_transform(x))\n",
        "\n"
      ],
      "metadata": {
        "id": "dBb2peJsmn-X"
      },
      "execution_count": 144,
      "outputs": []
    },
    {
      "cell_type": "code",
      "source": [
        "print(x)"
      ],
      "metadata": {
        "colab": {
          "base_uri": "https://localhost:8080/"
        },
        "id": "RoXGiF_fowS-",
        "outputId": "ca7e8274-3ca7-4c8d-beaa-d5fc900e6c75"
      },
      "execution_count": 145,
      "outputs": [
        {
          "output_type": "stream",
          "name": "stdout",
          "text": [
            "[[0.0 0.0 1.0 10.0 'no' 'no' 97.0]\n",
            " [0.0 0.0 1.0 12.0 'no' 'no' 97.0]\n",
            " [0.0 0.0 1.0 15.0 'no' 'no' 94.0]\n",
            " [0.0 0.0 1.0 10.0 'no' 'no' 97.0]\n",
            " [0.0 1.0 0.0 13.0 'no' 'no' 94.0]\n",
            " [0.0 1.0 0.0 12.0 'no' 'no' 97.0]\n",
            " [0.0 1.0 0.0 13.0 'no' 'no' 93.0]\n",
            " [0.0 1.0 0.0 15.0 'no' 'no' 92.0]\n",
            " [0.0 1.0 0.0 18.0 'no' 'no' 66.0]\n",
            " [0.0 0.0 1.0 19.0 'no' 'no' 92.0]\n",
            " [0.0 0.0 1.0 20.0 'no' 'no' 93.0]\n",
            " [0.0 0.0 1.0 17.0 'no' 'no' 93.0]\n",
            " [0.0 0.0 1.0 16.0 'no' 'no' 92.0]\n",
            " [0.0 0.0 1.0 18.0 'no' 'no' 93.0]\n",
            " [0.0 0.0 1.0 20.0 'no' 'no' 92.0]\n",
            " [0.0 1.0 0.0 25.0 'no' 'no' 93.0]\n",
            " [0.0 1.0 0.0 24.0 'no' 'no' 92.0]\n",
            " [1.0 0.0 0.0 26.0 'no' 'no' 94.0]\n",
            " [0.0 0.0 1.0 28.0 'no' 'no' 99.0]\n",
            " [0.0 0.0 1.0 29.0 'no' 'no' 93.0]\n",
            " [0.0 1.0 0.0 30.0 'no' 'no' 62.0]\n",
            " [0.0 0.0 1.0 19.0 'no' 'no' 89.0]\n",
            " [0.0 0.0 1.0 25.0 'no' 'yes' 86.0]\n",
            " [0.0 0.0 1.0 26.0 'no' 'no' 82.07246376811594]\n",
            " [0.0 0.0 1.0 28.0 'no' 'no' 89.0]\n",
            " [0.0 1.0 0.0 30.0 'yes' 'no' 86.0]\n",
            " [0.0 1.0 0.0 35.0 'no' 'no' 89.0]\n",
            " [0.0 1.0 0.0 32.0 'no' 'yes' 84.0]\n",
            " [0.0 1.0 0.0 45.130434782608695 'yes' 'no' 90.0]\n",
            " [0.0 1.0 0.0 32.0 'no' 'no' 89.0]\n",
            " [0.0 1.0 0.0 35.0 'no' 'yes' 92.0]\n",
            " [1.0 0.0 0.0 38.0 'no' 'no' 75.0]\n",
            " [0.0 1.0 0.0 40.0 'no' 'yes' 90.0]\n",
            " [1.0 0.0 0.0 46.0 'yes' 'no' 91.0]\n",
            " [0.0 1.0 0.0 48.0 'no' 'yes' 93.0]\n",
            " [1.0 0.0 0.0 42.0 'no' 'no' 92.0]\n",
            " [1.0 0.0 0.0 40.0 'no' 'no' 92.0]\n",
            " [0.0 1.0 0.0 49.0 'no' 'no' 80.0]\n",
            " [1.0 0.0 0.0 50.0 'yes' 'yes' 77.0]\n",
            " [1.0 0.0 0.0 36.0 'yes' 'no' 90.0]\n",
            " [1.0 0.0 0.0 52.0 'yes' 'yes' 80.0]\n",
            " [1.0 0.0 0.0 56.0 'yes' 'yes' 77.0]\n",
            " [1.0 0.0 0.0 58.0 'no' 'no' 70.0]\n",
            " [1.0 0.0 0.0 59.0 'no' 'yes' 69.0]\n",
            " [1.0 0.0 0.0 60.0 'yes' 'yes' 68.0]\n",
            " [1.0 0.0 0.0 53.0 'yes' 'no' 55.0]\n",
            " [1.0 0.0 0.0 54.0 'yes' 'yes' 70.0]\n",
            " [1.0 0.0 0.0 62.0 'yes' 'yes' 68.0]\n",
            " [1.0 0.0 0.0 63.0 'yes' 'yes' 66.0]\n",
            " [1.0 0.0 0.0 68.0 'yes' 'no' 67.0]\n",
            " [1.0 0.0 0.0 69.0 'no' 'yes' 53.0]\n",
            " [1.0 0.0 0.0 64.0 'yes' 'yes' 73.0]\n",
            " [1.0 0.0 0.0 61.0 'yes' 'yes' 76.0]\n",
            " [0.0 0.0 1.0 70.0 'no' 'yes' 88.0]\n",
            " [1.0 0.0 0.0 59.0 'yes' 'no' 68.0]\n",
            " [1.0 0.0 0.0 62.0 'yes' 'yes' 69.0]\n",
            " [1.0 0.0 0.0 78.0 'yes' 'yes' 71.0]\n",
            " [1.0 0.0 0.0 74.0 'yes' 'yes' 75.0]\n",
            " [1.0 0.0 0.0 75.0 'no' 'yes' 72.0]\n",
            " [1.0 0.0 0.0 56.0 'yes' 'no' 76.0]\n",
            " [1.0 0.0 0.0 80.0 'no' 'yes' 92.0]\n",
            " [1.0 0.0 0.0 82.0 'yes' 'yes' 73.0]\n",
            " [1.0 0.0 0.0 86.0 'yes' 'yes' 71.0]\n",
            " [1.0 0.0 0.0 90.0 'yes' 'yes' 67.0]\n",
            " [1.0 0.0 0.0 84.0 'yes' 'yes' 75.0]\n",
            " [1.0 0.0 0.0 86.0 'no' 'yes' 76.0]\n",
            " [0.0 1.0 0.0 61.0 'no' 'yes' 90.0]\n",
            " [1.0 0.0 0.0 94.0 'yes' 'yes' 64.0]\n",
            " [1.0 0.0 0.0 81.0 'yes' 'yes' 75.0]\n",
            " [1.0 0.0 0.0 76.0 'yes' 'yes' 80.0]]\n"
          ]
        }
      ]
    },
    {
      "cell_type": "markdown",
      "metadata": {
        "id": "alHfpomamsVr"
      },
      "source": [
        "### Encoding independent variables"
      ]
    },
    {
      "cell_type": "markdown",
      "metadata": {
        "id": "VEJCi9Fgmz-n"
      },
      "source": [
        "### Encoding dependent variables"
      ]
    },
    {
      "cell_type": "code",
      "source": [
        "from sklearn.preprocessing import LabelEncoder\n",
        "le=LabelEncoder()\n",
        "y=le.fit_transform(y)\n",
        "x[:,5]=le.fit_transform(x[:,5])\n",
        "x[:,4]=le.fit_transform(x[:,4])\n"
      ],
      "metadata": {
        "id": "nGX_SnpCo07U"
      },
      "execution_count": 146,
      "outputs": []
    },
    {
      "cell_type": "code",
      "source": [
        "print(y)\n",
        "print(x)"
      ],
      "metadata": {
        "colab": {
          "base_uri": "https://localhost:8080/"
        },
        "id": "wLoCqaBBpKYj",
        "outputId": "f0057a81-c691-4c0a-c51d-377389f09601"
      },
      "execution_count": 147,
      "outputs": [
        {
          "output_type": "stream",
          "name": "stdout",
          "text": [
            "[0 0 0 0 0 0 0 0 1 0 0 0 0 0 0 0 0 0 0 0 1 0 0 0 0 0 0 0 0 0 0 1 0 0 0 0 0\n",
            " 1 1 0 1 1 1 1 1 1 1 1 1 1 1 1 1 0 1 1 1 1 1 1 0 1 1 1 1 1 0 1 1 1]\n",
            "[[0.0 0.0 1.0 10.0 0 0 97.0]\n",
            " [0.0 0.0 1.0 12.0 0 0 97.0]\n",
            " [0.0 0.0 1.0 15.0 0 0 94.0]\n",
            " [0.0 0.0 1.0 10.0 0 0 97.0]\n",
            " [0.0 1.0 0.0 13.0 0 0 94.0]\n",
            " [0.0 1.0 0.0 12.0 0 0 97.0]\n",
            " [0.0 1.0 0.0 13.0 0 0 93.0]\n",
            " [0.0 1.0 0.0 15.0 0 0 92.0]\n",
            " [0.0 1.0 0.0 18.0 0 0 66.0]\n",
            " [0.0 0.0 1.0 19.0 0 0 92.0]\n",
            " [0.0 0.0 1.0 20.0 0 0 93.0]\n",
            " [0.0 0.0 1.0 17.0 0 0 93.0]\n",
            " [0.0 0.0 1.0 16.0 0 0 92.0]\n",
            " [0.0 0.0 1.0 18.0 0 0 93.0]\n",
            " [0.0 0.0 1.0 20.0 0 0 92.0]\n",
            " [0.0 1.0 0.0 25.0 0 0 93.0]\n",
            " [0.0 1.0 0.0 24.0 0 0 92.0]\n",
            " [1.0 0.0 0.0 26.0 0 0 94.0]\n",
            " [0.0 0.0 1.0 28.0 0 0 99.0]\n",
            " [0.0 0.0 1.0 29.0 0 0 93.0]\n",
            " [0.0 1.0 0.0 30.0 0 0 62.0]\n",
            " [0.0 0.0 1.0 19.0 0 0 89.0]\n",
            " [0.0 0.0 1.0 25.0 0 1 86.0]\n",
            " [0.0 0.0 1.0 26.0 0 0 82.07246376811594]\n",
            " [0.0 0.0 1.0 28.0 0 0 89.0]\n",
            " [0.0 1.0 0.0 30.0 1 0 86.0]\n",
            " [0.0 1.0 0.0 35.0 0 0 89.0]\n",
            " [0.0 1.0 0.0 32.0 0 1 84.0]\n",
            " [0.0 1.0 0.0 45.130434782608695 1 0 90.0]\n",
            " [0.0 1.0 0.0 32.0 0 0 89.0]\n",
            " [0.0 1.0 0.0 35.0 0 1 92.0]\n",
            " [1.0 0.0 0.0 38.0 0 0 75.0]\n",
            " [0.0 1.0 0.0 40.0 0 1 90.0]\n",
            " [1.0 0.0 0.0 46.0 1 0 91.0]\n",
            " [0.0 1.0 0.0 48.0 0 1 93.0]\n",
            " [1.0 0.0 0.0 42.0 0 0 92.0]\n",
            " [1.0 0.0 0.0 40.0 0 0 92.0]\n",
            " [0.0 1.0 0.0 49.0 0 0 80.0]\n",
            " [1.0 0.0 0.0 50.0 1 1 77.0]\n",
            " [1.0 0.0 0.0 36.0 1 0 90.0]\n",
            " [1.0 0.0 0.0 52.0 1 1 80.0]\n",
            " [1.0 0.0 0.0 56.0 1 1 77.0]\n",
            " [1.0 0.0 0.0 58.0 0 0 70.0]\n",
            " [1.0 0.0 0.0 59.0 0 1 69.0]\n",
            " [1.0 0.0 0.0 60.0 1 1 68.0]\n",
            " [1.0 0.0 0.0 53.0 1 0 55.0]\n",
            " [1.0 0.0 0.0 54.0 1 1 70.0]\n",
            " [1.0 0.0 0.0 62.0 1 1 68.0]\n",
            " [1.0 0.0 0.0 63.0 1 1 66.0]\n",
            " [1.0 0.0 0.0 68.0 1 0 67.0]\n",
            " [1.0 0.0 0.0 69.0 0 1 53.0]\n",
            " [1.0 0.0 0.0 64.0 1 1 73.0]\n",
            " [1.0 0.0 0.0 61.0 1 1 76.0]\n",
            " [0.0 0.0 1.0 70.0 0 1 88.0]\n",
            " [1.0 0.0 0.0 59.0 1 0 68.0]\n",
            " [1.0 0.0 0.0 62.0 1 1 69.0]\n",
            " [1.0 0.0 0.0 78.0 1 1 71.0]\n",
            " [1.0 0.0 0.0 74.0 1 1 75.0]\n",
            " [1.0 0.0 0.0 75.0 0 1 72.0]\n",
            " [1.0 0.0 0.0 56.0 1 0 76.0]\n",
            " [1.0 0.0 0.0 80.0 0 1 92.0]\n",
            " [1.0 0.0 0.0 82.0 1 1 73.0]\n",
            " [1.0 0.0 0.0 86.0 1 1 71.0]\n",
            " [1.0 0.0 0.0 90.0 1 1 67.0]\n",
            " [1.0 0.0 0.0 84.0 1 1 75.0]\n",
            " [1.0 0.0 0.0 86.0 0 1 76.0]\n",
            " [0.0 1.0 0.0 61.0 0 1 90.0]\n",
            " [1.0 0.0 0.0 94.0 1 1 64.0]\n",
            " [1.0 0.0 0.0 81.0 1 1 75.0]\n",
            " [1.0 0.0 0.0 76.0 1 1 80.0]]\n"
          ]
        }
      ]
    },
    {
      "cell_type": "code",
      "source": [
        "from sklearn.model_selection import train_test_split\n",
        "xtrain,xtest,ytrain,ytest=train_test_split(x,y,test_size=0.2,random_state=42)"
      ],
      "metadata": {
        "id": "UJLsrToOs4UG"
      },
      "execution_count": 148,
      "outputs": []
    },
    {
      "cell_type": "code",
      "source": [
        "print(xtrain)"
      ],
      "metadata": {
        "colab": {
          "base_uri": "https://localhost:8080/"
        },
        "id": "m3yiZeLItRA4",
        "outputId": "c436a6ec-636c-44f6-8b50-5fccc2d00577"
      },
      "execution_count": 149,
      "outputs": [
        {
          "output_type": "stream",
          "name": "stdout",
          "text": [
            "[[1.0 0.0 0.0 86.0 1 1 71.0]\n",
            " [0.0 1.0 0.0 35.0 0 1 92.0]\n",
            " [1.0 0.0 0.0 75.0 0 1 72.0]\n",
            " [1.0 0.0 0.0 42.0 0 0 92.0]\n",
            " [1.0 0.0 0.0 74.0 1 1 75.0]\n",
            " [1.0 0.0 0.0 62.0 1 1 68.0]\n",
            " [0.0 1.0 0.0 24.0 0 0 92.0]\n",
            " [0.0 1.0 0.0 48.0 0 1 93.0]\n",
            " [1.0 0.0 0.0 58.0 0 0 70.0]\n",
            " [0.0 1.0 0.0 45.130434782608695 1 0 90.0]\n",
            " [0.0 1.0 0.0 15.0 0 0 92.0]\n",
            " [0.0 0.0 1.0 70.0 0 1 88.0]\n",
            " [1.0 0.0 0.0 52.0 1 1 80.0]\n",
            " [1.0 0.0 0.0 60.0 1 1 68.0]\n",
            " [1.0 0.0 0.0 54.0 1 1 70.0]\n",
            " [0.0 0.0 1.0 29.0 0 0 93.0]\n",
            " [1.0 0.0 0.0 78.0 1 1 71.0]\n",
            " [1.0 0.0 0.0 36.0 1 0 90.0]\n",
            " [0.0 1.0 0.0 30.0 1 0 86.0]\n",
            " [1.0 0.0 0.0 50.0 1 1 77.0]\n",
            " [0.0 0.0 1.0 18.0 0 0 93.0]\n",
            " [1.0 0.0 0.0 69.0 0 1 53.0]\n",
            " [0.0 0.0 1.0 10.0 0 0 97.0]\n",
            " [1.0 0.0 0.0 26.0 0 0 94.0]\n",
            " [0.0 1.0 0.0 18.0 0 0 66.0]\n",
            " [1.0 0.0 0.0 62.0 1 1 69.0]\n",
            " [0.0 1.0 0.0 13.0 0 0 93.0]\n",
            " [1.0 0.0 0.0 40.0 0 0 92.0]\n",
            " [1.0 0.0 0.0 84.0 1 1 75.0]\n",
            " [1.0 0.0 0.0 76.0 1 1 80.0]\n",
            " [1.0 0.0 0.0 81.0 1 1 75.0]\n",
            " [0.0 1.0 0.0 25.0 0 0 93.0]\n",
            " [0.0 1.0 0.0 32.0 0 1 84.0]\n",
            " [1.0 0.0 0.0 56.0 1 1 77.0]\n",
            " [0.0 1.0 0.0 35.0 0 0 89.0]\n",
            " [1.0 0.0 0.0 63.0 1 1 66.0]\n",
            " [0.0 0.0 1.0 28.0 0 0 89.0]\n",
            " [1.0 0.0 0.0 56.0 1 0 76.0]\n",
            " [1.0 0.0 0.0 90.0 1 1 67.0]\n",
            " [0.0 0.0 1.0 17.0 0 0 93.0]\n",
            " [0.0 1.0 0.0 40.0 0 1 90.0]\n",
            " [0.0 1.0 0.0 61.0 0 1 90.0]\n",
            " [1.0 0.0 0.0 82.0 1 1 73.0]\n",
            " [0.0 1.0 0.0 49.0 0 0 80.0]\n",
            " [0.0 1.0 0.0 32.0 0 0 89.0]\n",
            " [1.0 0.0 0.0 59.0 0 1 69.0]\n",
            " [1.0 0.0 0.0 86.0 0 1 76.0]\n",
            " [0.0 0.0 1.0 12.0 0 0 97.0]\n",
            " [1.0 0.0 0.0 61.0 1 1 76.0]\n",
            " [0.0 0.0 1.0 19.0 0 0 89.0]\n",
            " [0.0 0.0 1.0 15.0 0 0 94.0]\n",
            " [0.0 0.0 1.0 26.0 0 0 82.07246376811594]\n",
            " [0.0 1.0 0.0 30.0 0 0 62.0]\n",
            " [1.0 0.0 0.0 80.0 0 1 92.0]\n",
            " [0.0 0.0 1.0 20.0 0 0 92.0]\n",
            " [1.0 0.0 0.0 64.0 1 1 73.0]]\n"
          ]
        }
      ]
    },
    {
      "cell_type": "code",
      "source": [
        "print(xtest)"
      ],
      "metadata": {
        "colab": {
          "base_uri": "https://localhost:8080/"
        },
        "id": "fc6WXHjCtYSn",
        "outputId": "e8e50623-bd96-49b8-f2ed-d8684c840879"
      },
      "execution_count": 150,
      "outputs": [
        {
          "output_type": "stream",
          "name": "stdout",
          "text": [
            "[[0.0 0.0 1.0 25.0 0 1 86.0]\n",
            " [0.0 0.0 1.0 10.0 0 0 97.0]\n",
            " [1.0 0.0 0.0 68.0 1 0 67.0]\n",
            " [0.0 1.0 0.0 13.0 0 0 94.0]\n",
            " [1.0 0.0 0.0 59.0 1 0 68.0]\n",
            " [0.0 0.0 1.0 28.0 0 0 99.0]\n",
            " [0.0 0.0 1.0 20.0 0 0 93.0]\n",
            " [1.0 0.0 0.0 46.0 1 0 91.0]\n",
            " [1.0 0.0 0.0 53.0 1 0 55.0]\n",
            " [0.0 0.0 1.0 16.0 0 0 92.0]\n",
            " [1.0 0.0 0.0 38.0 0 0 75.0]\n",
            " [0.0 0.0 1.0 19.0 0 0 92.0]\n",
            " [1.0 0.0 0.0 94.0 1 1 64.0]\n",
            " [0.0 1.0 0.0 12.0 0 0 97.0]]\n"
          ]
        }
      ]
    },
    {
      "cell_type": "code",
      "source": [
        "print(ytest)"
      ],
      "metadata": {
        "colab": {
          "base_uri": "https://localhost:8080/"
        },
        "id": "6iIfaPFmtaRa",
        "outputId": "d02659d1-37e7-46a3-abc0-c3d662fe75ed"
      },
      "execution_count": 151,
      "outputs": [
        {
          "output_type": "stream",
          "name": "stdout",
          "text": [
            "[0 0 1 0 1 0 0 0 1 0 1 0 1 0]\n"
          ]
        }
      ]
    },
    {
      "cell_type": "code",
      "source": [
        "print(ytrain)"
      ],
      "metadata": {
        "colab": {
          "base_uri": "https://localhost:8080/"
        },
        "id": "KW425R-FtjeK",
        "outputId": "61445752-f8b9-4e92-82b0-5603ba16f0fe"
      },
      "execution_count": 152,
      "outputs": [
        {
          "output_type": "stream",
          "name": "stdout",
          "text": [
            "[1 0 1 0 1 1 0 0 1 0 0 0 1 1 1 0 1 0 0 1 0 1 0 0 1 1 0 0 1 1 1 0 0 1 0 1 0\n",
            " 1 1 0 0 0 1 1 0 1 1 0 1 0 0 0 1 0 0 1]\n"
          ]
        }
      ]
    },
    {
      "cell_type": "markdown",
      "metadata": {
        "id": "Bfz9vcDsm7r6"
      },
      "source": [
        "## Splitting data into Test set & Training Set\n"
      ]
    },
    {
      "cell_type": "code",
      "source": [
        ""
      ],
      "metadata": {
        "id": "u24MKalYHoVQ"
      },
      "execution_count": 152,
      "outputs": []
    },
    {
      "cell_type": "markdown",
      "metadata": {
        "id": "a5uoHf8MsQG0"
      },
      "source": [
        "## Feature Scaling"
      ]
    },
    {
      "cell_type": "code",
      "source": [
        "from sklearn.preprocessing import StandardScaler\n",
        "sc=StandardScaler()\n",
        "xtrain[:,6:]=sc.fit_transform(xtrain[:,6:])\n",
        "xtest[:,6:]=sc.fit_transform(xtest[:,6:])"
      ],
      "metadata": {
        "id": "BMJ6xMtoMtlZ"
      },
      "execution_count": 153,
      "outputs": []
    },
    {
      "cell_type": "code",
      "source": [
        "print(xtrain)"
      ],
      "metadata": {
        "colab": {
          "base_uri": "https://localhost:8080/"
        },
        "id": "Cvw_UmiONH-9",
        "outputId": "a9b228b1-e2c2-4fed-e1a3-29fe3920abf0"
      },
      "execution_count": 154,
      "outputs": [
        {
          "output_type": "stream",
          "name": "stdout",
          "text": [
            "[[1.0 0.0 0.0 86.0 1 1 -0.9941858494300261]\n",
            " [0.0 1.0 0.0 35.0 0 1 0.9574354145081887]\n",
            " [1.0 0.0 0.0 75.0 0 1 -0.9012515035282064]\n",
            " [1.0 0.0 0.0 42.0 0 0 0.9574354145081887]\n",
            " [1.0 0.0 0.0 74.0 1 1 -0.6224484658227472]\n",
            " [1.0 0.0 0.0 62.0 1 1 -1.2729888871354853]\n",
            " [0.0 1.0 0.0 24.0 0 0 0.9574354145081887]\n",
            " [0.0 1.0 0.0 48.0 0 1 1.0503697604100084]\n",
            " [1.0 0.0 0.0 58.0 0 0 -1.087120195331846]\n",
            " [0.0 1.0 0.0 45.130434782608695 1 0 0.7715667227045492]\n",
            " [0.0 1.0 0.0 15.0 0 0 0.9574354145081887]\n",
            " [0.0 0.0 1.0 70.0 0 1 0.5856980309009097]\n",
            " [1.0 0.0 0.0 52.0 1 1 -0.15777673631364833]\n",
            " [1.0 0.0 0.0 60.0 1 1 -1.2729888871354853]\n",
            " [1.0 0.0 0.0 54.0 1 1 -1.087120195331846]\n",
            " [0.0 0.0 1.0 29.0 0 0 1.0503697604100084]\n",
            " [1.0 0.0 0.0 78.0 1 1 -0.9941858494300261]\n",
            " [1.0 0.0 0.0 36.0 1 0 0.7715667227045492]\n",
            " [0.0 1.0 0.0 30.0 1 0 0.3998293390972702]\n",
            " [1.0 0.0 0.0 50.0 1 1 -0.4365797740191076]\n",
            " [0.0 0.0 1.0 18.0 0 0 1.0503697604100084]\n",
            " [1.0 0.0 0.0 69.0 0 1 -2.6670040756627817]\n",
            " [0.0 0.0 1.0 10.0 0 0 1.4221071440172874]\n",
            " [1.0 0.0 0.0 26.0 0 0 1.143304106311828]\n",
            " [0.0 1.0 0.0 18.0 0 0 -1.458857578939125]\n",
            " [1.0 0.0 0.0 62.0 1 1 -1.1800545412336656]\n",
            " [0.0 1.0 0.0 13.0 0 0 1.0503697604100084]\n",
            " [1.0 0.0 0.0 40.0 0 0 0.9574354145081887]\n",
            " [1.0 0.0 0.0 84.0 1 1 -0.6224484658227472]\n",
            " [1.0 0.0 0.0 76.0 1 1 -0.15777673631364833]\n",
            " [1.0 0.0 0.0 81.0 1 1 -0.6224484658227472]\n",
            " [0.0 1.0 0.0 25.0 0 0 1.0503697604100084]\n",
            " [0.0 1.0 0.0 32.0 0 1 0.21396064729363068]\n",
            " [1.0 0.0 0.0 56.0 1 1 -0.4365797740191076]\n",
            " [0.0 1.0 0.0 35.0 0 0 0.6786323768027295]\n",
            " [1.0 0.0 0.0 63.0 1 1 -1.458857578939125]\n",
            " [0.0 0.0 1.0 28.0 0 0 0.6786323768027295]\n",
            " [1.0 0.0 0.0 56.0 1 0 -0.5295141199209273]\n",
            " [1.0 0.0 0.0 90.0 1 1 -1.3659232330373052]\n",
            " [0.0 0.0 1.0 17.0 0 0 1.0503697604100084]\n",
            " [0.0 1.0 0.0 40.0 0 1 0.7715667227045492]\n",
            " [0.0 1.0 0.0 61.0 0 1 0.7715667227045492]\n",
            " [1.0 0.0 0.0 82.0 1 1 -0.8083171576263867]\n",
            " [0.0 1.0 0.0 49.0 0 0 -0.15777673631364833]\n",
            " [0.0 1.0 0.0 32.0 0 0 0.6786323768027295]\n",
            " [1.0 0.0 0.0 59.0 0 1 -1.1800545412336656]\n",
            " [1.0 0.0 0.0 86.0 0 1 -0.5295141199209273]\n",
            " [0.0 0.0 1.0 12.0 0 0 1.4221071440172874]\n",
            " [1.0 0.0 0.0 61.0 1 1 -0.5295141199209273]\n",
            " [0.0 0.0 1.0 19.0 0 0 0.6786323768027295]\n",
            " [0.0 0.0 1.0 15.0 0 0 1.143304106311828]\n",
            " [0.0 0.0 1.0 26.0 0 0 0.034826328381427]\n",
            " [0.0 1.0 0.0 30.0 0 0 -1.830594962546404]\n",
            " [1.0 0.0 0.0 80.0 0 1 0.9574354145081887]\n",
            " [0.0 0.0 1.0 20.0 0 0 0.9574354145081887]\n",
            " [1.0 0.0 0.0 64.0 1 1 -0.8083171576263867]]\n"
          ]
        }
      ]
    },
    {
      "cell_type": "code",
      "source": [
        "print(xtest )"
      ],
      "metadata": {
        "colab": {
          "base_uri": "https://localhost:8080/"
        },
        "id": "OM1V7jdGNKnr",
        "outputId": "38e8a2ab-2c5a-4d01-a1ff-8bf57a1d292e"
      },
      "execution_count": 155,
      "outputs": [
        {
          "output_type": "stream",
          "name": "stdout",
          "text": [
            "[[0.0 0.0 1.0 25.0 0 1 0.17205102992570073]\n",
            " [0.0 0.0 1.0 10.0 0 0 0.9513409890009328]\n",
            " [1.0 0.0 0.0 68.0 1 0 -1.1739952630224273]\n",
            " [0.0 1.0 0.0 13.0 0 0 0.7388073637985968]\n",
            " [1.0 0.0 0.0 59.0 1 0 -1.1031507212883154]\n",
            " [0.0 0.0 1.0 28.0 0 0 1.0930300724691568]\n",
            " [0.0 0.0 1.0 20.0 0 0 0.6679628220644848]\n",
            " [1.0 0.0 0.0 46.0 1 0 0.5262737385962607]\n",
            " [1.0 0.0 0.0 53.0 1 0 -2.0241297638317715]\n",
            " [0.0 0.0 1.0 16.0 0 0 0.5971182803303727]\n",
            " [1.0 0.0 0.0 38.0 0 0 -0.6072389291495313]\n",
            " [0.0 0.0 1.0 19.0 0 0 0.5971182803303727]\n",
            " [1.0 0.0 0.0 94.0 1 1 -1.3865288882247633]\n",
            " [0.0 1.0 0.0 12.0 0 0 0.9513409890009328]]\n"
          ]
        }
      ]
    },
    {
      "cell_type": "code",
      "source": [
        "from sklearn.linear_model import LogisticRegression\n",
        "classifier = LogisticRegression(random_state = 0)\n",
        "classifier.fit(xtrain, ytrain)"
      ],
      "metadata": {
        "colab": {
          "base_uri": "https://localhost:8080/"
        },
        "id": "4Jm_aao9FaNT",
        "outputId": "0c1ab904-ea5d-4ead-e692-24f91bb3669b"
      },
      "execution_count": 156,
      "outputs": [
        {
          "output_type": "execute_result",
          "data": {
            "text/plain": [
              "LogisticRegression(random_state=0)"
            ]
          },
          "metadata": {},
          "execution_count": 156
        }
      ]
    },
    {
      "cell_type": "code",
      "source": [
        "Y_pred = classifier.predict(xtest)"
      ],
      "metadata": {
        "id": "LfsIJwdCF03r"
      },
      "execution_count": 158,
      "outputs": []
    },
    {
      "cell_type": "code",
      "source": [
        "print(Y_pred)"
      ],
      "metadata": {
        "colab": {
          "base_uri": "https://localhost:8080/"
        },
        "id": "6Yc7asFnLUO-",
        "outputId": "a149e7df-aedd-4fd4-c136-502b933a16d5"
      },
      "execution_count": 160,
      "outputs": [
        {
          "output_type": "stream",
          "name": "stdout",
          "text": [
            "[0 0 1 0 1 0 0 0 1 0 1 0 1 0]\n"
          ]
        }
      ]
    },
    {
      "cell_type": "code",
      "source": [
        "print(ytest)"
      ],
      "metadata": {
        "colab": {
          "base_uri": "https://localhost:8080/"
        },
        "id": "uHYPq129N7PS",
        "outputId": "371f3a4a-0c2f-41ae-a3a8-bfd92632b4fd"
      },
      "execution_count": 165,
      "outputs": [
        {
          "output_type": "stream",
          "name": "stdout",
          "text": [
            "[0 0 1 0 1 0 0 0 1 0 1 0 1 0]\n"
          ]
        }
      ]
    },
    {
      "cell_type": "code",
      "source": [
        "from sklearn.metrics import confusion_matrix\n",
        "cm = confusion_matrix(ytest, Y_pred)"
      ],
      "metadata": {
        "id": "KDRPYI0KLiJc"
      },
      "execution_count": 161,
      "outputs": []
    },
    {
      "cell_type": "code",
      "source": [
        "print(cm)"
      ],
      "metadata": {
        "colab": {
          "base_uri": "https://localhost:8080/"
        },
        "id": "0sAYhJOsLktZ",
        "outputId": "888e3c3f-9b59-40d6-bc3c-38727b1372f5"
      },
      "execution_count": 162,
      "outputs": [
        {
          "output_type": "stream",
          "name": "stdout",
          "text": [
            "[[9 0]\n",
            " [0 5]]\n"
          ]
        }
      ]
    },
    {
      "cell_type": "code",
      "source": [
        "print((9+5)/(9+5) *100)"
      ],
      "metadata": {
        "colab": {
          "base_uri": "https://localhost:8080/"
        },
        "id": "XqkP1YOHNBky",
        "outputId": "0cec5e97-1d55-4708-b149-ef1215529ba4"
      },
      "execution_count": 164,
      "outputs": [
        {
          "output_type": "stream",
          "name": "stdout",
          "text": [
            "100.0\n"
          ]
        }
      ]
    }
  ]
}